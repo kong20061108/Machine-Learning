{
 "cells": [
  {
   "cell_type": "code",
   "execution_count": null,
   "id": "f6276082",
   "metadata": {},
   "outputs": [
    {
     "name": "stdout",
     "output_type": "stream",
     "text": [
      "=== 数据预览 ===\n",
      "   学习时间_小时  完成作业数量_个      考试成绩_分\n",
      "0        7         2   56.023477\n",
      "1        4         4   35.673907\n",
      "2       13         8  108.408177\n",
      "3       15         7  126.039373\n",
      "4       11         9  108.777541\n",
      "5        8         8   77.409714\n",
      "6       13         5  100.252908\n",
      "7        5         2   36.785018\n",
      "8        7         5   67.398210\n",
      "9       10         8   93.926199\n"
     ]
    }
   ],
   "source": [
    "import numpy as np\n",
    "import pandas as pd\n",
    "import matplotlib.pyplot as plt\n",
    "from sklearn.model_selection import train_test_split\n",
    "from sklearn.linear_model import LinearRegression\n",
    "from sklearn.metrics import mean_absolute_error, mean_squared_error, r2_score\n",
    "\n",
    "# 设置随机种子以确保结果可重复\n",
    "np.random.seed(42)\n",
    "\n",
    "# 模拟学生成绩数据\n",
    "\n",
    "num_students = 100\n",
    "learning_hours = np.random.randint(1, 16, num_students)  # 学习时间（小时/天）\n",
    "work_finished = np.random.randint(1,10, num_students)  # 完成作业数量\n",
    "exam_scores = learning_hours * 7 + work_finished * 3 + np.random.normal(0, 10, num_students)  # 考试成绩（满分100）\n",
    "\n",
    "df = pd.DataFrame({\n",
    "    '学习时间_小时': learning_hours,\n",
    "    '完成作业数量_个': work_finished,\n",
    "    '考试成绩_分': exam_scores\n",
    "})\n",
    "\n",
    "# 显示前几行数据\n",
    "print(\"=== 数据预览 ===\")\n",
    "display(df.head(10).style.set_properties(**{'text-align': 'right'}).format({\n",
    "    '学习时间_小时/天': '{:d}',\n",
    "    '完成作业数量': '{:d}',\n",
    "    '考试成绩_分': '{:.1f}'\n",
    "}))\n",
    "\n"
   ]
  }
 ],
 "metadata": {
  "kernelspec": {
   "display_name": "Machine_learn",
   "language": "python",
   "name": "python3"
  },
  "language_info": {
   "codemirror_mode": {
    "name": "ipython",
    "version": 3
   },
   "file_extension": ".py",
   "mimetype": "text/x-python",
   "name": "python",
   "nbconvert_exporter": "python",
   "pygments_lexer": "ipython3",
   "version": "3.10.8"
  }
 },
 "nbformat": 4,
 "nbformat_minor": 5
}
