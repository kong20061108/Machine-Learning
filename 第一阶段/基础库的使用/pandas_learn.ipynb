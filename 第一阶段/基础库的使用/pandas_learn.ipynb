{
 "cells": [
  {
   "cell_type": "code",
   "execution_count": 15,
   "id": "a0e4b425",
   "metadata": {},
   "outputs": [],
   "source": [
    "import pandas as pd\n",
    "import numpy as np\n",
    "import matplotlib.pyplot as plt\n",
    "\n"
   ]
  },
  {
   "cell_type": "code",
   "execution_count": null,
   "id": "edf96228",
   "metadata": {},
   "outputs": [
    {
     "name": "stdout",
     "output_type": "stream",
     "text": [
      "0    1.0\n",
      "1    2.0\n",
      "2    3.0\n",
      "3    NaN\n",
      "4    5.0\n",
      "Name: test, dtype: float64\n"
     ]
    }
   ],
   "source": [
    "# 创建一个包含缺失值的Series\n",
    "myvar=pd.Series([1,2,3,np.nan,5],name='test')\n",
    "print(myvar)"
   ]
  },
  {
   "cell_type": "code",
   "execution_count": null,
   "id": "cf5c6db1",
   "metadata": {},
   "outputs": [
    {
     "name": "stdout",
     "output_type": "stream",
     "text": [
      "x    a\n",
      "y    b\n",
      "z    c\n",
      "w    d\n",
      "v    e\n",
      "Name: test2, dtype: object\n",
      "a\n",
      "b\n"
     ]
    },
    {
     "name": "stderr",
     "output_type": "stream",
     "text": [
      "C:\\Users\\27199\\AppData\\Local\\Temp\\ipykernel_15464\\2196422093.py:7: FutureWarning: Series.__getitem__ treating keys as positions is deprecated. In a future version, integer keys will always be treated as labels (consistent with DataFrame behavior). To access a value by position, use `ser.iloc[pos]`\n",
      "  print(df[1])\n"
     ]
    }
   ],
   "source": [
    "# 创建一个指定索引的Series\n",
    "a=['a','b','c','d','e']\n",
    "b=['x','y','z','w','v']\n",
    "df=pd.Series(a,index=b,name='test2')\n",
    "print(df)\n",
    "print(df['x'])  #通过索引取值\n",
    "print(df[1])    #通过位置取值(所以你还是可以通过默认的索引取值的)"
   ]
  },
  {
   "cell_type": "code",
   "execution_count": null,
   "id": "de5ee8d1",
   "metadata": {},
   "outputs": [
    {
     "name": "stdout",
     "output_type": "stream",
     "text": [
      "1    a\n",
      "2    b\n",
      "3    c\n",
      "dtype: object\n",
      "1    a\n",
      "2    b\n",
      "dtype: object\n"
     ]
    }
   ],
   "source": [
    "# 创建一个由字典生成的Series\n",
    "a={1:'a',2:'b',3:'c'}\n",
    "myvar2=pd.Series(a)\n",
    "print(myvar2)\n",
    "myvar3=pd.Series(a,index=[1,2])\n",
    "print(myvar3)"
   ]
  },
  {
   "cell_type": "code",
   "execution_count": 27,
   "id": "f3c22cd1",
   "metadata": {},
   "outputs": [
    {
     "name": "stdout",
     "output_type": "stream",
     "text": [
      "1     a\n",
      "2     b\n",
      "3     c\n",
      "4     d\n",
      "5     e\n",
      "6     f\n",
      "7     g\n",
      "8     h\n",
      "9     i\n",
      "10    j\n",
      "dtype: object\n",
      "1    a\n",
      "2    b\n",
      "3    c\n",
      "dtype: object\n",
      "Index([1, 2, 3, 4, 5, 6, 7, 8, 9, 10], dtype='int64')\n",
      "['a' 'b' 'c' 'd' 'e' 'f' 'g' 'h' 'i' 'j']\n",
      "count     10\n",
      "unique    10\n",
      "top        a\n",
      "freq       1\n",
      "dtype: object\n",
      "1     b\n",
      "2     c\n",
      "3     d\n",
      "4     e\n",
      "5     f\n",
      "6     g\n",
      "7     h\n",
      "8     i\n",
      "9     j\n",
      "10    k\n",
      "dtype: object\n"
     ]
    }
   ],
   "source": [
    "data={1:'a',2:'b',3:'c',4:'d',5:'e',6:'f',7:'g',8:'h',9:'i',10:'j'}\n",
    "myvar4=pd.Series(data)\n",
    "print(myvar4)\n",
    "print(myvar4.head(3))\n",
    "print(myvar4.index)\n",
    "print(myvar4.values)\n",
    "print(myvar4.describe())\n",
    "\n",
    "def add(x):\n",
    "    return chr(ord(x)+1)\n",
    "print(myvar4.apply(add))\n"
   ]
  },
  {
   "cell_type": "code",
   "execution_count": 30,
   "id": "324fa679",
   "metadata": {},
   "outputs": [
    {
     "name": "stdout",
     "output_type": "stream",
     "text": [
      "a     1\n",
      "b     2\n",
      "c     3\n",
      "d     4\n",
      "e     5\n",
      "f     6\n",
      "g     7\n",
      "h     8\n",
      "i     9\n",
      "j    10\n",
      "dtype: int64\n",
      "a     2\n",
      "b     4\n",
      "c     6\n",
      "d     8\n",
      "e    10\n",
      "f    12\n",
      "g    14\n",
      "h    16\n",
      "i    18\n",
      "j    20\n",
      "dtype: int64\n",
      "f    12\n",
      "g    14\n",
      "h    16\n",
      "i    18\n",
      "j    20\n",
      "dtype: int64\n",
      "a    1.414214\n",
      "b    2.000000\n",
      "c    2.449490\n",
      "d    2.828427\n",
      "e    3.162278\n",
      "f    3.464102\n",
      "g    3.741657\n",
      "h    4.000000\n",
      "i    4.242641\n",
      "j    4.472136\n",
      "dtype: float64\n"
     ]
    }
   ],
   "source": [
    "myvar5=pd.Series([1,2,3,4,5,6,7,8,9,10],index=list('abcdefghij'))\n",
    "print(myvar5)\n",
    "myvar5=myvar5*2\n",
    "print(myvar5)\n",
    "print(myvar5[myvar5>10])\n",
    "print(np.sqrt(myvar5))"
   ]
  },
  {
   "cell_type": "code",
   "execution_count": 33,
   "id": "6d6a56e7",
   "metadata": {},
   "outputs": [
    {
     "name": "stdout",
     "output_type": "stream",
     "text": [
      "    A   B   C\n",
      "a   1   2   3\n",
      "b   4   5   6\n",
      "c   7   8   9\n",
      "d  10  11  12\n"
     ]
    }
   ],
   "source": [
    "s=np.array([[1,2,3],[4,5,6],[7,8,9],[10,11,12]])\n",
    "df2=pd.DataFrame(s,index=['a','b','c','d'],columns=['A','B','C'])\n",
    "print(df2)"
   ]
  }
 ],
 "metadata": {
  "kernelspec": {
   "display_name": "Machine_learn",
   "language": "python",
   "name": "python3"
  },
  "language_info": {
   "codemirror_mode": {
    "name": "ipython",
    "version": 3
   },
   "file_extension": ".py",
   "mimetype": "text/x-python",
   "name": "python",
   "nbconvert_exporter": "python",
   "pygments_lexer": "ipython3",
   "version": "3.10.8"
  }
 },
 "nbformat": 4,
 "nbformat_minor": 5
}
